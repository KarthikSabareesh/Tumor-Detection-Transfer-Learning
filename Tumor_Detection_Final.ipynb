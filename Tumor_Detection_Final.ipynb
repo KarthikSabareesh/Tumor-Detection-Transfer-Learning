{
  "cells": [
    {
      "cell_type": "markdown",
      "metadata": {
        "id": "Fh5TG7nhnsbX"
      },
      "source": [
        "# Brain MRI Image classification for Brain Tumor Detection using Transfer Learning\n",
        "\n",
        "## In this exercise, we'll be performing a binary classification of multiple MRI brain scans by transfer learning (importing and finetuning prebuilt models trained on large dataset with our specific dataset). Here, we're importing an Xception model and it is trained to idenfity possible brain tumor abnormalities in brain scans and identify the existence of tumors by a binary classification of a given scan image having a tumor('yes') or not having a tumor('no')"
      ]
    },
    {
      "cell_type": "markdown",
      "metadata": {
        "id": "y1hYlRuto4pa"
      },
      "source": [
        "# By : Karthik Sabareesh\n",
        "\n",
        "\n",
        "## Github: https://github.com/KarthikSabareesh"
      ]
    },
    {
      "cell_type": "code",
      "execution_count": 2,
      "metadata": {
        "id": "iO3Rwsl0pBDq"
      },
      "outputs": [],
      "source": [
        "import pandas as pd\n",
        "import numpy as np\n",
        "import tensorflow as tf\n",
        "from tensorflow import keras\n",
        "from tensorflow.keras import layers\n",
        "from tensorflow.keras import optimizers\n",
        "from tensorflow.keras.callbacks import ModelCheckpoint,EarlyStopping\n",
        "import matplotlib.pyplot as plt\n",
        "import matplotlib.image as img\n",
        "\n",
        "\n",
        "from keras.applications import Xception\n",
        "from keras.models import Sequential, Model\n",
        "from keras.layers import Dense, Dropout, Flatten\n",
        "import joblib"
      ]
    },
    {
      "cell_type": "markdown",
      "metadata": {
        "id": "qdWZZmtQpCaw"
      },
      "source": [
        "### Importing dataset from Google Drive"
      ]
    },
    {
      "cell_type": "code",
      "execution_count": 3,
      "metadata": {
        "colab": {
          "base_uri": "https://localhost:8080/"
        },
        "id": "USpwPbvUz2Y5",
        "outputId": "0913ad2e-8ecf-4e2d-b1c2-bed7ef3f8d1c"
      },
      "outputs": [
        {
          "name": "stdout",
          "output_type": "stream",
          "text": [
            "Mounted at /content/drive\n"
          ]
        }
      ],
      "source": [
        "from google.colab import drive\n",
        "drive.mount('/content/drive')"
      ]
    },
    {
      "cell_type": "markdown",
      "metadata": {
        "id": "tmKyXCnkpHF_"
      },
      "source": [
        "## Creating Train and Validation Image Datasets from directories"
      ]
    },
    {
      "cell_type": "code",
      "execution_count": 4,
      "metadata": {
        "id": "TuH_IIcn3tRC"
      },
      "outputs": [],
      "source": [
        "data_dir =  '/content/drive/MyDrive/brain_tumor_dataset'\n",
        "img_height, img_width = 224,224\n",
        "batch_size = 32"
      ]
    },
    {
      "cell_type": "code",
      "execution_count": 5,
      "metadata": {
        "colab": {
          "base_uri": "https://localhost:8080/"
        },
        "id": "j0RIGGpk3oAM",
        "outputId": "0596d298-18d4-4a93-b315-117a0c759ac9"
      },
      "outputs": [
        {
          "name": "stdout",
          "output_type": "stream",
          "text": [
            "Found 253 files belonging to 2 classes.\n",
            "Using 203 files for training.\n",
            "Found 253 files belonging to 2 classes.\n",
            "Using 50 files for validation.\n",
            "<_BatchDataset element_spec=(TensorSpec(shape=(None, 224, 224, 3), dtype=tf.uint8, name=None), TensorSpec(shape=(None, 1), dtype=tf.float32, name=None))>\n"
          ]
        }
      ],
      "source": [
        "train_data = tf.keras.utils.image_dataset_from_directory(\n",
        "  data_dir,\n",
        "  labels='inferred',\n",
        "  label_mode='binary',\n",
        "  validation_split=0.2,\n",
        "  subset=\"training\",\n",
        "  seed=123,\n",
        "  image_size=(img_height, img_width),\n",
        "  interpolation='nearest',\n",
        "  batch_size=batch_size)\n",
        "\n",
        "valid_data = tf.keras.utils.image_dataset_from_directory(\n",
        "  data_dir,\n",
        "  labels='inferred',\n",
        "  label_mode='binary',\n",
        "  validation_split=0.2,\n",
        "  subset=\"validation\",\n",
        "  seed=123,\n",
        "  image_size=(img_height, img_width),\n",
        "  interpolation='nearest',\n",
        "  batch_size=batch_size)\n",
        "\n",
        "print(train_data)"
      ]
    },
    {
      "cell_type": "markdown",
      "metadata": {
        "id": "P9FZQFiZpOeL"
      },
      "source": [
        "## Importing Xception model for transfer learning"
      ]
    },
    {
      "cell_type": "code",
      "execution_count": 6,
      "metadata": {
        "colab": {
          "base_uri": "https://localhost:8080/"
        },
        "id": "tGEm3RBcHnrD",
        "outputId": "92913775-66f4-44ff-fe22-06087c298560"
      },
      "outputs": [
        {
          "name": "stdout",
          "output_type": "stream",
          "text": [
            "Downloading data from https://storage.googleapis.com/tensorflow/keras-applications/xception/xception_weights_tf_dim_ordering_tf_kernels_notop.h5\n",
            "83683744/83683744 [==============================] - 3s 0us/step\n"
          ]
        }
      ],
      "source": [
        "base_model = Xception(weights='imagenet', include_top=False,input_shape=(img_height,img_width,3))\n",
        "\n",
        "# Freeze the base model.\n",
        "for layer in base_model.layers:\n",
        "    layer.trainable = False"
      ]
    },
    {
      "cell_type": "code",
      "execution_count": 7,
      "metadata": {
        "id": "P6wpeMrheC94"
      },
      "outputs": [],
      "source": [
        "rescale = tf.keras.Sequential([\n",
        "  layers.Rescaling(1./255, input_shape=[img_height, img_width, 3])\n",
        "])"
      ]
    },
    {
      "cell_type": "markdown",
      "metadata": {
        "id": "m26N5lAfpScu"
      },
      "source": [
        "## Adding our own layers"
      ]
    },
    {
      "cell_type": "code",
      "execution_count": 8,
      "metadata": {
        "colab": {
          "base_uri": "https://localhost:8080/"
        },
        "id": "LZMEIlqgJzA0",
        "outputId": "f76aefd3-1fe7-4bb3-813d-be49cccee4fc"
      },
      "outputs": [
        {
          "name": "stdout",
          "output_type": "stream",
          "text": [
            "Model: \"sequential_1\"\n",
            "_________________________________________________________________\n",
            " Layer (type)                Output Shape              Param #   \n",
            "=================================================================\n",
            " sequential (Sequential)     (None, 224, 224, 3)       0         \n",
            "                                                                 \n",
            " xception (Functional)       (None, 7, 7, 2048)        20861480  \n",
            "                                                                 \n",
            " flatten (Flatten)           (None, 100352)            0         \n",
            "                                                                 \n",
            " dense (Dense)               (None, 128)               12845184  \n",
            "                                                                 \n",
            " dropout (Dropout)           (None, 128)               0         \n",
            "                                                                 \n",
            " dense_1 (Dense)             (None, 32)                4128      \n",
            "                                                                 \n",
            " dense_2 (Dense)             (None, 1)                 33        \n",
            "                                                                 \n",
            "=================================================================\n",
            "Total params: 33,710,825\n",
            "Trainable params: 12,849,345\n",
            "Non-trainable params: 20,861,480\n",
            "_________________________________________________________________\n"
          ]
        }
      ],
      "source": [
        "tf.random.set_seed(42)\n",
        "\n",
        "model = keras.Sequential()\n",
        "model.add(rescale)\n",
        "model.add(base_model)\n",
        "model.add(Flatten())\n",
        "model.add(Dense(units=128, activation=\"relu\"))\n",
        "model.add(Dropout(0.5))\n",
        "model.add(Dense(units=32, activation=\"relu\"))\n",
        "model.add(Dense(1, activation='sigmoid'))\n",
        "model.summary()"
      ]
    },
    {
      "cell_type": "code",
      "execution_count": 9,
      "metadata": {
        "id": "0fu6WaUEKQ5u"
      },
      "outputs": [],
      "source": [
        "model.compile(optimizer=\"adam\", loss='binary_crossentropy', metrics=['accuracy'])"
      ]
    },
    {
      "cell_type": "markdown",
      "metadata": {
        "id": "j6T2Of6spXsP"
      },
      "source": [
        "## Training our model on our dataset"
      ]
    },
    {
      "cell_type": "code",
      "execution_count": 10,
      "metadata": {
        "colab": {
          "base_uri": "https://localhost:8080/"
        },
        "id": "ezWwi0ZOLij_",
        "outputId": "a38cafcf-fbc7-4261-a099-084eab1594dd"
      },
      "outputs": [
        {
          "name": "stdout",
          "output_type": "stream",
          "text": [
            "Epoch 1/15\n",
            "7/7 [==============================] - ETA: 0s - loss: 3.0612 - accuracy: 0.5764\n",
            "Epoch 1: val_loss improved from inf to 0.70278, saving model to mymodel.h5\n",
            "7/7 [==============================] - 102s 10s/step - loss: 3.0612 - accuracy: 0.5764 - val_loss: 0.7028 - val_accuracy: 0.8000\n",
            "Epoch 2/15\n",
            "7/7 [==============================] - ETA: 0s - loss: 2.6675 - accuracy: 0.6404\n",
            "Epoch 2: val_loss improved from 0.70278 to 0.58020, saving model to mymodel.h5\n",
            "7/7 [==============================] - 68s 10s/step - loss: 2.6675 - accuracy: 0.6404 - val_loss: 0.5802 - val_accuracy: 0.7600\n",
            "Epoch 3/15\n",
            "7/7 [==============================] - ETA: 0s - loss: 1.4061 - accuracy: 0.7291\n",
            "Epoch 3: val_loss did not improve from 0.58020\n",
            "7/7 [==============================] - 57s 8s/step - loss: 1.4061 - accuracy: 0.7291 - val_loss: 0.8154 - val_accuracy: 0.7600\n",
            "Epoch 4/15\n",
            "7/7 [==============================] - ETA: 0s - loss: 1.1727 - accuracy: 0.7586\n",
            "Epoch 4: val_loss improved from 0.58020 to 0.52954, saving model to mymodel.h5\n",
            "7/7 [==============================] - 68s 10s/step - loss: 1.1727 - accuracy: 0.7586 - val_loss: 0.5295 - val_accuracy: 0.7400\n",
            "Epoch 5/15\n",
            "7/7 [==============================] - ETA: 0s - loss: 1.3163 - accuracy: 0.8177\n",
            "Epoch 5: val_loss improved from 0.52954 to 0.47493, saving model to mymodel.h5\n",
            "7/7 [==============================] - 59s 8s/step - loss: 1.3163 - accuracy: 0.8177 - val_loss: 0.4749 - val_accuracy: 0.8000\n",
            "Epoch 6/15\n",
            "7/7 [==============================] - ETA: 0s - loss: 0.7883 - accuracy: 0.7783\n",
            "Epoch 6: val_loss improved from 0.47493 to 0.32990, saving model to mymodel.h5\n",
            "7/7 [==============================] - 73s 11s/step - loss: 0.7883 - accuracy: 0.7783 - val_loss: 0.3299 - val_accuracy: 0.9000\n",
            "Epoch 7/15\n",
            "7/7 [==============================] - ETA: 0s - loss: 0.5499 - accuracy: 0.8522\n",
            "Epoch 7: val_loss did not improve from 0.32990\n",
            "7/7 [==============================] - 67s 10s/step - loss: 0.5499 - accuracy: 0.8522 - val_loss: 0.5379 - val_accuracy: 0.8800\n",
            "Epoch 8/15\n",
            "7/7 [==============================] - ETA: 0s - loss: 0.4010 - accuracy: 0.8818\n",
            "Epoch 8: val_loss did not improve from 0.32990\n",
            "7/7 [==============================] - 67s 10s/step - loss: 0.4010 - accuracy: 0.8818 - val_loss: 0.4018 - val_accuracy: 0.9200\n",
            "Epoch 9/15\n",
            "7/7 [==============================] - ETA: 0s - loss: 0.3019 - accuracy: 0.9064\n",
            "Epoch 9: val_loss improved from 0.32990 to 0.27891, saving model to mymodel.h5\n",
            "7/7 [==============================] - 58s 9s/step - loss: 0.3019 - accuracy: 0.9064 - val_loss: 0.2789 - val_accuracy: 0.9200\n",
            "Epoch 10/15\n",
            "7/7 [==============================] - ETA: 0s - loss: 0.2621 - accuracy: 0.8966\n",
            "Epoch 10: val_loss did not improve from 0.27891\n",
            "7/7 [==============================] - 58s 8s/step - loss: 0.2621 - accuracy: 0.8966 - val_loss: 0.3661 - val_accuracy: 0.9000\n",
            "Epoch 11/15\n",
            "7/7 [==============================] - ETA: 0s - loss: 0.2881 - accuracy: 0.9163\n",
            "Epoch 11: val_loss did not improve from 0.27891\n",
            "7/7 [==============================] - 59s 9s/step - loss: 0.2881 - accuracy: 0.9163 - val_loss: 0.3550 - val_accuracy: 0.9000\n",
            "Epoch 12/15\n",
            "7/7 [==============================] - ETA: 0s - loss: 0.2258 - accuracy: 0.9163\n",
            "Epoch 12: val_loss improved from 0.27891 to 0.26937, saving model to mymodel.h5\n",
            "7/7 [==============================] - 59s 9s/step - loss: 0.2258 - accuracy: 0.9163 - val_loss: 0.2694 - val_accuracy: 0.9600\n",
            "Epoch 13/15\n",
            "7/7 [==============================] - ETA: 0s - loss: 0.2177 - accuracy: 0.8916\n",
            "Epoch 13: val_loss did not improve from 0.26937\n",
            "7/7 [==============================] - 58s 8s/step - loss: 0.2177 - accuracy: 0.8916 - val_loss: 0.3540 - val_accuracy: 0.9000\n",
            "Epoch 14/15\n",
            "7/7 [==============================] - ETA: 0s - loss: 0.1780 - accuracy: 0.9212\n",
            "Epoch 14: val_loss did not improve from 0.26937\n",
            "7/7 [==============================] - 67s 10s/step - loss: 0.1780 - accuracy: 0.9212 - val_loss: 0.3656 - val_accuracy: 0.9600\n",
            "Epoch 15/15\n",
            "7/7 [==============================] - ETA: 0s - loss: 0.1943 - accuracy: 0.9360\n",
            "Epoch 15: val_loss did not improve from 0.26937\n",
            "7/7 [==============================] - 67s 10s/step - loss: 0.1943 - accuracy: 0.9360 - val_loss: 0.2951 - val_accuracy: 0.9600\n"
          ]
        }
      ],
      "source": [
        "\n",
        "AUTOTUNE = tf.data.AUTOTUNE\n",
        "\n",
        "train_data_preprocess = train_data.cache().shuffle(1000).prefetch(buffer_size=AUTOTUNE)\n",
        "valid_data_preprocess = valid_data.cache().prefetch(buffer_size=AUTOTUNE)\n",
        "\n",
        "callbacks = [EarlyStopping(monitor='loss', patience=3),ModelCheckpoint(filepath='mymodel.h5',verbose=1, save_best_only=True)]\n",
        "\n",
        "history = model.fit(\n",
        "    train_data,\n",
        "    validation_data=valid_data,\n",
        "    epochs=15,\n",
        "    verbose=1,\n",
        "    callbacks=callbacks,\n",
        ")"
      ]
    },
    {
      "cell_type": "markdown",
      "metadata": {
        "id": "s9ZSH1OapcYT"
      },
      "source": [
        "## An overview of loss and accuracy across the epochs"
      ]
    },
    {
      "cell_type": "code",
      "execution_count": 11,
      "metadata": {
        "colab": {
          "base_uri": "https://localhost:8080/",
          "height": 843
        },
        "id": "RK2bGS8rORU5",
        "outputId": "48b240a9-3fdd-4d4f-be9f-ae5b1bf1ec40"
      },
      "outputs": [
        {
          "data": {
            "image/png": "[encoded data removed]",
            "text/plain": [
              "<Figure size 640x480 with 1 Axes>"
            ]
          },
          "metadata": {},
          "output_type": "display_data"
        },
        {
          "data": {
            "image/png": "[encoded data removed]",
            "text/plain": [
              "<Figure size 640x480 with 1 Axes>"
            ]
          },
          "metadata": {},
          "output_type": "display_data"
        }
      ],
      "source": [
        "history_frame = pd.DataFrame(history.history)\n",
        "history_frame.loc[:, ['loss', 'val_loss']].plot()\n",
        "history_frame.loc[:, ['accuracy', 'val_accuracy']].plot();"
      ]
    },
    {
      "cell_type": "markdown",
      "metadata": {
        "id": "g253fTNCpi5Q"
      },
      "source": [
        "## Reviewing classification with metrics and classification report"
      ]
    },
    {
      "cell_type": "code",
      "execution_count": 12,
      "metadata": {
        "colab": {
          "base_uri": "https://localhost:8080/"
        },
        "id": "tGDt1uuMOYlw",
        "outputId": "c5ffab23-6900-4ae1-97e3-b784200d7296"
      },
      "outputs": [
        {
          "name": "stdout",
          "output_type": "stream",
          "text": [
            "2/2 [==============================] - 11s 4s/step\n",
            "[[9.9999994e-01]\n",
            " [5.7385740e-05]\n",
            " [4.2477564e-04]\n",
            " [1.2006440e-01]\n",
            " [9.8540843e-01]\n",
            " [1.8539991e-03]\n",
            " [2.1357901e-04]\n",
            " [1.0000000e+00]\n",
            " [1.0000000e+00]\n",
            " [1.7510049e-01]\n",
            " [9.9994808e-01]\n",
            " [2.9419018e-02]\n",
            " [1.3062095e-06]\n",
            " [9.4506377e-01]\n",
            " [9.9995184e-01]\n",
            " [9.9929583e-01]\n",
            " [4.1351989e-03]\n",
            " [9.8764414e-01]\n",
            " [6.1260005e-05]\n",
            " [9.9262911e-01]\n",
            " [9.9997127e-01]\n",
            " [9.9994266e-01]\n",
            " [7.7149415e-01]\n",
            " [4.1144900e-04]\n",
            " [3.1593225e-03]\n",
            " [9.9972302e-01]\n",
            " [9.9978697e-01]\n",
            " [9.2306405e-01]\n",
            " [9.9985021e-01]\n",
            " [9.9449980e-01]\n",
            " [9.9847013e-01]\n",
            " [9.9989617e-01]\n",
            " [2.2634101e-01]\n",
            " [7.9335755e-01]\n",
            " [9.9995708e-01]\n",
            " [9.8609078e-01]\n",
            " [3.3060508e-06]\n",
            " [8.9971936e-01]\n",
            " [9.7180009e-01]\n",
            " [9.5856577e-02]\n",
            " [9.9999666e-01]\n",
            " [9.9962807e-01]\n",
            " [9.9967784e-01]\n",
            " [9.8958385e-01]\n",
            " [2.6575854e-01]\n",
            " [6.6517848e-01]\n",
            " [9.9952048e-01]\n",
            " [3.4913208e-04]\n",
            " [8.4102285e-01]\n",
            " [1.3893236e-02]]\n",
            "[1, 0, 0, 0, 1, 0, 0, 1, 1, 0, 1, 0, 0, 1, 1, 1, 0, 1, 0, 1, 1, 1, 1, 0, 0, 1, 1, 1, 1, 1, 1, 1, 0, 1, 1, 1, 0, 1, 1, 0, 1, 1, 1, 1, 0, 1, 1, 0, 1, 0]\n",
            "[1, 0, 0, 0, 1, 0, 0, 1, 1, 0, 1, 0, 0, 1, 1, 1, 0, 1, 0, 1, 1, 1, 1, 0, 0, 1, 1, 1, 1, 1, 1, 1, 0, 1, 1, 1, 0, 1, 1, 0, 1, 1, 0, 1, 0, 1, 1, 0, 1, 1]\n",
            "Val Accuracy: 0.96\n",
            "Val F1 Score: 0.97\n",
            "False positive: 0.02\n",
            "False negative: 0.02\n"
          ]
        }
      ],
      "source": [
        "import matplotlib.pyplot as plt\n",
        "import matplotlib.ticker as ticker\n",
        "from sklearn.metrics import accuracy_score,f1_score,classification_report\n",
        "\n",
        "\n",
        "CLASSES = train_data.class_names\n",
        "probabilities = model.predict(valid_data_preprocess)\n",
        "print(probabilities)\n",
        "\n",
        "predictions = [1 if i >0.5 else 0 for i in probabilities]\n",
        "print(predictions)\n",
        "unbatched_valid_ds_preprocess = valid_data_preprocess.unbatch()\n",
        "labels_valid = [int(i[1]) for i in unbatched_valid_ds_preprocess]\n",
        "print(labels_valid)\n",
        "list_labels_predictions = np.vstack((labels_valid,predictions)).T\n",
        "conf_matrix = np.zeros([2,2])\n",
        "\n",
        "for i,j in list_labels_predictions:\n",
        "    conf_matrix[i,j] +=1\n",
        "\n",
        "accuracy = accuracy_score(labels_valid, predictions)\n",
        "f1 = f1_score(labels_valid, predictions)\n",
        "print('Val Accuracy: %.2f' % accuracy)\n",
        "print('Val F1 Score: %.2f' % f1)\n",
        "print('False positive: %.2f' % (conf_matrix[0,1]/len(predictions)))\n",
        "print('False negative: %.2f' % (conf_matrix[1,0]/len(predictions)))"
      ]
    },
    {
      "cell_type": "code",
      "execution_count": 13,
      "metadata": {
        "colab": {
          "base_uri": "https://localhost:8080/",
          "height": 855
        },
        "id": "HpEBYrXnll6-",
        "outputId": "804993f4-e860-4c99-8f2f-621a02df2edb"
      },
      "outputs": [
        {
          "data": {
            "image/png": "[encoded data removed]",
            "text/plain": [
              "<Figure size 750x750 with 1 Axes>"
            ]
          },
          "metadata": {},
          "output_type": "display_data"
        },
        {
          "name": "stdout",
          "output_type": "stream",
          "text": [
            "              precision    recall  f1-score   support\n",
            "\n",
            "           0       0.94      0.94      0.94        18\n",
            "           1       0.97      0.97      0.97        32\n",
            "\n",
            "    accuracy                           0.96        50\n",
            "   macro avg       0.96      0.96      0.96        50\n",
            "weighted avg       0.96      0.96      0.96        50\n",
            "\n"
          ]
        }
      ],
      "source": [
        "fig, ax = plt.subplots(figsize=(7.5, 7.5))\n",
        "ax.matshow(conf_matrix, cmap=plt.cm.Blues)\n",
        "for i in range(conf_matrix.shape[0]):\n",
        "    for j in range(conf_matrix.shape[1]):\n",
        "        ax.text(x=j, y=i,s=conf_matrix[i, j], va='center', ha='center', size='xx-large')\n",
        "\n",
        "plt.xlabel('Predictions', fontsize=18)\n",
        "plt.ylabel('Actuals', fontsize=18)\n",
        "\n",
        "ax.set_yticks([0,1])\n",
        "ax.set_yticklabels(CLASSES)\n",
        "ax.set_xticks([0,1])\n",
        "ax.set_xticklabels(CLASSES)\n",
        "plt.title('Confusion Matrix', fontsize=18)\n",
        "plt.show()\n",
        "\n",
        "\n",
        "print(classification_report(labels_valid,predictions))"
      ]
    },
    {
      "cell_type": "code",
      "execution_count": 14,
      "metadata": {
        "colab": {
          "base_uri": "https://localhost:8080/"
        },
        "id": "wT3CRUoGbT7q",
        "outputId": "45a8e4b1-16aa-4ada-a23b-5769d70012e3"
      },
      "outputs": [
        {
          "name": "stdout",
          "output_type": "stream",
          "text": [
            "Model: \"sequential_2\"\n",
            "_________________________________________________________________\n",
            " Layer (type)                Output Shape              Param #   \n",
            "=================================================================\n",
            " sequential (Sequential)     (None, 224, 224, 3)       0         \n",
            "                                                                 \n",
            " xception (Functional)       (None, 7, 7, 2048)        20861480  \n",
            "                                                                 \n",
            " flatten_1 (Flatten)         (None, 100352)            0         \n",
            "                                                                 \n",
            " dense_3 (Dense)             (None, 128)               12845184  \n",
            "                                                                 \n",
            " dropout_1 (Dropout)         (None, 128)               0         \n",
            "                                                                 \n",
            " dense_4 (Dense)             (None, 32)                4128      \n",
            "                                                                 \n",
            " dense_5 (Dense)             (None, 1)                 33        \n",
            "                                                                 \n",
            "=================================================================\n",
            "Total params: 33,710,825\n",
            "Trainable params: 12,849,345\n",
            "Non-trainable params: 20,861,480\n",
            "_________________________________________________________________\n"
          ]
        }
      ],
      "source": [
        "model2 = keras.Sequential()\n",
        "model2.add(rescale)\n",
        "model2.add(base_model)\n",
        "model2.add(Flatten())\n",
        "model2.add(Dense(units=128, activation=\"relu\"))\n",
        "model2.add(Dropout(0.5))\n",
        "model2.add(Dense(units=32, activation=\"relu\"))\n",
        "model2.add(Dense(1, activation='sigmoid'))\n",
        "model2.summary()"
      ]
    },
    {
      "cell_type": "code",
      "execution_count": 15,
      "metadata": {
        "id": "fPhhojinbi7t"
      },
      "outputs": [],
      "source": [
        "model2.load_weights('mymodel.h5')"
      ]
    },
    {
      "cell_type": "code",
      "execution_count": 16,
      "metadata": {
        "colab": {
          "base_uri": "https://localhost:8080/"
        },
        "id": "Hk3szbTsQWGz",
        "outputId": "b1f1f378-c2ce-4075-d36d-e560324d51c0"
      },
      "outputs": [
        {
          "name": "stdout",
          "output_type": "stream",
          "text": [
            "2/2 [==============================] - 14s 6s/step\n",
            "[[9.9999976e-01]\n",
            " [1.6517980e-02]\n",
            " [2.7303828e-04]\n",
            " [3.2433029e-02]\n",
            " [9.8022783e-01]\n",
            " [2.2504698e-03]\n",
            " [5.1530031e-04]\n",
            " [9.9999994e-01]\n",
            " [9.9999762e-01]\n",
            " [3.3745396e-01]\n",
            " [9.9957168e-01]\n",
            " [8.4253423e-02]\n",
            " [5.3161575e-06]\n",
            " [9.4572753e-01]\n",
            " [9.9998885e-01]\n",
            " [9.9861658e-01]\n",
            " [8.4713966e-02]\n",
            " [9.5321852e-01]\n",
            " [2.2669425e-03]\n",
            " [9.6685356e-01]\n",
            " [9.9957615e-01]\n",
            " [9.9985117e-01]\n",
            " [6.1429018e-01]\n",
            " [4.7592325e-03]\n",
            " [2.2685284e-02]\n",
            " [9.9305886e-01]\n",
            " [9.9996632e-01]\n",
            " [8.6196685e-01]\n",
            " [9.9956429e-01]\n",
            " [9.9027056e-01]\n",
            " [9.9270338e-01]\n",
            " [9.9904263e-01]\n",
            " [1.2908459e-01]\n",
            " [5.9651154e-01]\n",
            " [9.9956822e-01]\n",
            " [9.7490168e-01]\n",
            " [6.2433101e-04]\n",
            " [7.9036546e-01]\n",
            " [9.2291743e-01]\n",
            " [5.8669850e-02]\n",
            " [9.9990433e-01]\n",
            " [9.9954575e-01]\n",
            " [9.9857008e-01]\n",
            " [9.6982247e-01]\n",
            " [2.3920339e-01]\n",
            " [8.4304082e-01]\n",
            " [9.9689180e-01]\n",
            " [1.9686355e-03]\n",
            " [5.0160694e-01]\n",
            " [4.0816497e-02]]\n",
            "[1, 0, 0, 0, 1, 0, 0, 1, 1, 0, 1, 0, 0, 1, 1, 1, 0, 1, 0, 1, 1, 1, 1, 0, 0, 1, 1, 1, 1, 1, 1, 1, 0, 1, 1, 1, 0, 1, 1, 0, 1, 1, 1, 1, 0, 1, 1, 0, 1, 0]\n",
            "[1, 0, 0, 0, 1, 0, 0, 1, 1, 0, 1, 0, 0, 1, 1, 1, 0, 1, 0, 1, 1, 1, 1, 0, 0, 1, 1, 1, 1, 1, 1, 1, 0, 1, 1, 1, 0, 1, 1, 0, 1, 1, 0, 1, 0, 1, 1, 0, 1, 1]\n",
            "Val Accuracy: 0.96\n",
            "Val F1 Score: 0.97\n",
            "False positive: 0.02\n",
            "False negative: 0.02\n"
          ]
        }
      ],
      "source": [
        "import matplotlib.pyplot as plt\n",
        "import matplotlib.ticker as ticker\n",
        "from sklearn.metrics import accuracy_score,f1_score,classification_report\n",
        "\n",
        "\n",
        "CLASSES = train_data.class_names\n",
        "probabilities2 = model2.predict(valid_data_preprocess)\n",
        "print(probabilities2)\n",
        "\n",
        "predictions2 = [1 if i >0.5 else 0 for i in probabilities2]\n",
        "print(predictions2)\n",
        "unbatched_valid_ds_preprocess = valid_data_preprocess.unbatch()\n",
        "labels_valid = [int(i[1]) for i in unbatched_valid_ds_preprocess]\n",
        "print(labels_valid)\n",
        "list_labels_predictions = np.vstack((labels_valid,predictions2)).T\n",
        "conf_matrix2 = np.zeros([2,2])\n",
        "\n",
        "for i,j in list_labels_predictions:\n",
        "    conf_matrix2[i,j] +=1\n",
        "\n",
        "accuracy2 = accuracy_score(labels_valid, predictions2)\n",
        "f1_2 = f1_score(labels_valid, predictions2)\n",
        "print('Val Accuracy: %.2f' % accuracy2)\n",
        "print('Val F1 Score: %.2f' % f1_2)\n",
        "print('False positive: %.2f' % (conf_matrix2[0,1]/len(predictions)))\n",
        "print('False negative: %.2f' % (conf_matrix2[1,0]/len(predictions)))"
      ]
    },
    {
      "cell_type": "code",
      "execution_count": 18,
      "metadata": {
        "colab": {
          "base_uri": "https://localhost:8080/"
        },
        "id": "idy7dsWOcMbR",
        "outputId": "5365e945-5e95-421f-df6d-d7ecc81f54b2"
      },
      "outputs": [
        {
          "data": {
            "text/plain": [
              "['/content/drive/MyDrive/Tumor Detection Model Storage/model_file.joblib']"
            ]
          },
          "execution_count": 18,
          "metadata": {},
          "output_type": "execute_result"
        }
      ],
      "source": [
        "joblib.dump(model, '/content/drive/MyDrive/Tumor Detection Model Storage/model_file.joblib')"
      ]
    },
    {
      "cell_type": "markdown",
      "metadata": {},
      "source": [
        "## Hence, we have successfully imported and trained an Xception model for our specific problem to obtain results of 96% accuracy and 97% F1 Score. We've also saved our model to the cloud in Google Drive"
      ]
    },
    {
      "cell_type": "markdown",
      "metadata": {},
      "source": [
        "# Thank You!!!!"
      ]
    }
  ],
  "metadata": {
    "colab": {
      "provenance": []
    },
    "kernelspec": {
      "display_name": "Python 3",
      "name": "python3"
    },
    "language_info": {
      "name": "python"
    }
  },
  "nbformat": 4,
  "nbformat_minor": 0
}
